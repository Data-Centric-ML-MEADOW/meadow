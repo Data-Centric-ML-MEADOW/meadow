{
 "cells": [
  {
   "cell_type": "code",
   "execution_count": 1,
   "id": "cc8d9449-4681-429b-8156-495b87a58c60",
   "metadata": {},
   "outputs": [],
   "source": [
    "import wilds\n",
    "import os\n",
    "import torchvision.transforms as transforms"
   ]
  },
  {
   "cell_type": "code",
   "execution_count": 2,
   "id": "b91d499f-f86f-4c4a-bf3f-7384146a8923",
   "metadata": {},
   "outputs": [],
   "source": [
    "# `data` is at the outer project directory \n",
    "os.chdir(\"..\")"
   ]
  },
  {
   "cell_type": "code",
   "execution_count": 3,
   "id": "74e0bff8-2f38-46c5-b64a-361812889efa",
   "metadata": {},
   "outputs": [
    {
     "data": {
      "text/plain": [
       "'/storage/ice1/5/4/rso31/meadow'"
      ]
     },
     "execution_count": 3,
     "metadata": {},
     "output_type": "execute_result"
    }
   ],
   "source": [
    "os.getcwd()"
   ]
  },
  {
   "cell_type": "code",
   "execution_count": 4,
   "id": "91f105b6-2b08-4af4-bb69-141ac27e836e",
   "metadata": {},
   "outputs": [],
   "source": [
    "dataset_lb = wilds.get_dataset(dataset=\"iwildcam\")"
   ]
  },
  {
   "cell_type": "code",
   "execution_count": 5,
   "id": "ec914705-861f-42d2-89cb-ae7ebcf31135",
   "metadata": {},
   "outputs": [
    {
     "data": {
      "text/plain": [
       "203029"
      ]
     },
     "execution_count": 5,
     "metadata": {},
     "output_type": "execute_result"
    }
   ],
   "source": [
    "len(dataset_lb)"
   ]
  },
  {
   "cell_type": "code",
   "execution_count": 6,
   "id": "55d79bd5-abca-4fe1-a842-571db3c15a78",
   "metadata": {},
   "outputs": [],
   "source": [
    "train_lb_data = dataset_lb.get_subset(\n",
    "    \"train\",\n",
    "    transform=transforms.Compose(\n",
    "    [transforms.Resize((448, 448)), transforms.ToTensor()]\n",
    "    )\n",
    ")"
   ]
  },
  {
   "cell_type": "code",
   "execution_count": 7,
   "id": "dafe9afa-e50c-4d4a-8843-6f64acbe3363",
   "metadata": {},
   "outputs": [],
   "source": [
    "test_lb_data = dataset_lb.get_subset(\n",
    "    \"test\",\n",
    "    transform=transforms.Compose(\n",
    "    [transforms.Resize((448, 448)), transforms.ToTensor()]\n",
    "    )\n",
    ")"
   ]
  },
  {
   "cell_type": "code",
   "execution_count": 8,
   "id": "785f6ec5-2f5e-47b0-b77c-5eecaa670262",
   "metadata": {},
   "outputs": [],
   "source": [
    "val_lb_data = dataset_lb.get_subset(\n",
    "    \"val\",\n",
    "    transform=transforms.Compose(\n",
    "    [transforms.Resize((448, 448)), transforms.ToTensor()]\n",
    "    )\n",
    ")"
   ]
  },
  {
   "cell_type": "code",
   "execution_count": 9,
   "id": "e1d4678c-d905-4411-95d4-f6b1fb29031a",
   "metadata": {},
   "outputs": [
    {
     "data": {
      "text/plain": [
       "129809"
      ]
     },
     "execution_count": 9,
     "metadata": {},
     "output_type": "execute_result"
    }
   ],
   "source": [
    "len(train_lb_data)"
   ]
  },
  {
   "cell_type": "code",
   "execution_count": 10,
   "id": "aa24eb77-9ae9-4651-b0be-7a83ad90b6b5",
   "metadata": {},
   "outputs": [
    {
     "data": {
      "text/plain": [
       "42791"
      ]
     },
     "execution_count": 10,
     "metadata": {},
     "output_type": "execute_result"
    }
   ],
   "source": [
    "len(test_lb_data)"
   ]
  },
  {
   "cell_type": "code",
   "execution_count": 11,
   "id": "7b5303c9-8b84-4e5e-a27e-45a94478234f",
   "metadata": {},
   "outputs": [
    {
     "data": {
      "text/plain": [
       "14961"
      ]
     },
     "execution_count": 11,
     "metadata": {},
     "output_type": "execute_result"
    }
   ],
   "source": [
    "len(val_lb_data)"
   ]
  },
  {
   "cell_type": "code",
   "execution_count": 12,
   "id": "34b2e64e-0478-4884-9456-662bc320671d",
   "metadata": {},
   "outputs": [],
   "source": [
    "total = len(train_lb_data) + len(test_lb_data) + len(val_lb_data)"
   ]
  },
  {
   "cell_type": "code",
   "execution_count": 13,
   "id": "da7579e5-642e-4d97-86e0-5c345316ed8c",
   "metadata": {},
   "outputs": [
    {
     "data": {
      "text/plain": [
       "0.6920895068804283"
      ]
     },
     "execution_count": 13,
     "metadata": {},
     "output_type": "execute_result"
    }
   ],
   "source": [
    "len(train_lb_data) / total"
   ]
  },
  {
   "cell_type": "code",
   "execution_count": 14,
   "id": "91a7fd92-d3c0-4e95-817f-ae364ad8d8be",
   "metadata": {},
   "outputs": [
    {
     "data": {
      "text/plain": [
       "0.22814444367432463"
      ]
     },
     "execution_count": 14,
     "metadata": {},
     "output_type": "execute_result"
    }
   ],
   "source": [
    "len(test_lb_data) / total"
   ]
  },
  {
   "cell_type": "code",
   "execution_count": 15,
   "id": "fabd2ef8-a8c7-45e8-98eb-d784a8dd2677",
   "metadata": {},
   "outputs": [
    {
     "data": {
      "text/plain": [
       "0.07976604944524715"
      ]
     },
     "execution_count": 15,
     "metadata": {},
     "output_type": "execute_result"
    }
   ],
   "source": [
    "len(val_lb_data) / total"
   ]
  },
  {
   "attachments": {},
   "cell_type": "markdown",
   "id": "cd3e4c78-0932-4362-bef5-07c3f0120cc3",
   "metadata": {},
   "source": [
    "### ~ 70/8/22 train-test split\n",
    "_(ignoring in-distribution splits)_"
   ]
  },
  {
   "cell_type": "code",
   "execution_count": 16,
   "id": "45f6a458-2c07-4f51-93ad-d057a4ccb8bc",
   "metadata": {},
   "outputs": [
    {
     "data": {
      "text/plain": [
       "(tensor([[[0.1922, 0.1882, 0.2039,  ..., 0.2000, 0.1882, 0.1882],\n",
       "          [0.1961, 0.1922, 0.2078,  ..., 0.1961, 0.1843, 0.1882],\n",
       "          [0.1961, 0.1961, 0.2118,  ..., 0.1961, 0.1882, 0.1922],\n",
       "          ...,\n",
       "          [1.0000, 1.0000, 0.9804,  ..., 1.0000, 1.0000, 1.0000],\n",
       "          [0.9922, 0.9882, 0.9961,  ..., 1.0000, 1.0000, 1.0000],\n",
       "          [1.0000, 0.9882, 0.9922,  ..., 1.0000, 1.0000, 1.0000]],\n",
       " \n",
       "         [[0.1922, 0.1882, 0.2039,  ..., 0.2000, 0.1882, 0.1882],\n",
       "          [0.1961, 0.1922, 0.2078,  ..., 0.1961, 0.1843, 0.1882],\n",
       "          [0.1961, 0.1961, 0.2118,  ..., 0.1961, 0.1882, 0.1922],\n",
       "          ...,\n",
       "          [1.0000, 1.0000, 0.9804,  ..., 1.0000, 1.0000, 1.0000],\n",
       "          [0.9922, 0.9882, 0.9961,  ..., 1.0000, 1.0000, 1.0000],\n",
       "          [1.0000, 0.9882, 0.9922,  ..., 1.0000, 1.0000, 1.0000]],\n",
       " \n",
       "         [[0.1922, 0.1882, 0.2039,  ..., 0.2000, 0.1882, 0.1882],\n",
       "          [0.1961, 0.1922, 0.2078,  ..., 0.1961, 0.1843, 0.1882],\n",
       "          [0.1961, 0.1961, 0.2118,  ..., 0.1961, 0.1882, 0.1922],\n",
       "          ...,\n",
       "          [1.0000, 1.0000, 0.9804,  ..., 1.0000, 1.0000, 1.0000],\n",
       "          [0.9922, 0.9882, 0.9961,  ..., 1.0000, 1.0000, 1.0000],\n",
       "          [1.0000, 0.9882, 0.9922,  ..., 1.0000, 1.0000, 1.0000]]]),\n",
       " tensor(0),\n",
       " tensor([    0, 30191,  2014,     6,     9,     9,    32,     3,     0,     1]))"
      ]
     },
     "execution_count": 16,
     "metadata": {},
     "output_type": "execute_result"
    }
   ],
   "source": [
    "train_lb_data[0]"
   ]
  },
  {
   "cell_type": "markdown",
   "id": "8d203dff-a138-4013-bdb9-8bc2467d392d",
   "metadata": {},
   "source": [
    "#### _(image_data, label, metadata)_"
   ]
  },
  {
   "cell_type": "markdown",
   "id": "61c58819-96ae-4e35-b575-e50c9d8c10d7",
   "metadata": {},
   "source": [
    "---"
   ]
  },
  {
   "cell_type": "code",
   "execution_count": 17,
   "id": "496982fc-6521-4bd1-bdbc-64e6c8493128",
   "metadata": {},
   "outputs": [
    {
     "data": {
      "text/plain": [
       "['location',\n",
       " 'sequence',\n",
       " 'year',\n",
       " 'month',\n",
       " 'day',\n",
       " 'hour',\n",
       " 'minute',\n",
       " 'second',\n",
       " 'y',\n",
       " 'from_source_domain']"
      ]
     },
     "execution_count": 17,
     "metadata": {},
     "output_type": "execute_result"
    }
   ],
   "source": [
    "dataset_lb.metadata_fields"
   ]
  },
  {
   "cell_type": "markdown",
   "id": "c731f4fd-a466-4bdc-ac3e-06015020284a",
   "metadata": {},
   "source": [
    "### metadata index 0 represents location or domain ID"
   ]
  },
  {
   "cell_type": "code",
   "execution_count": 18,
   "id": "928f6e41-3178-4420-a78d-ab106d1bebdf",
   "metadata": {},
   "outputs": [],
   "source": [
    "from wilds.common.grouper import CombinatorialGrouper"
   ]
  },
  {
   "cell_type": "code",
   "execution_count": 19,
   "id": "d3d05ce1-a019-4951-8a84-206145787fd2",
   "metadata": {},
   "outputs": [],
   "source": [
    "grouper = CombinatorialGrouper(dataset_lb, ['location'])"
   ]
  },
  {
   "cell_type": "code",
   "execution_count": 20,
   "id": "ce8829ae-4c30-4493-aa20-1ece851abc36",
   "metadata": {},
   "outputs": [
    {
     "data": {
      "text/plain": [
       "tensor([323])"
      ]
     },
     "execution_count": 20,
     "metadata": {},
     "output_type": "execute_result"
    }
   ],
   "source": [
    "grouper.cardinality"
   ]
  },
  {
   "cell_type": "markdown",
   "id": "cf59ce1d-3e9d-4c81-ae06-8bf22247682c",
   "metadata": {},
   "source": [
    "### 323 different domains in labeled data"
   ]
  },
  {
   "cell_type": "code",
   "execution_count": 21,
   "id": "a23ca6d0-eda2-476e-aee0-3e03f87e5c82",
   "metadata": {},
   "outputs": [],
   "source": [
    "import numpy as np\n",
    "from tqdm import tqdm\n",
    "from wilds.common.data_loaders import get_train_loader"
   ]
  },
  {
   "cell_type": "code",
   "execution_count": 31,
   "id": "a90789b8-6cef-4847-abb1-898db0e33f87",
   "metadata": {},
   "outputs": [],
   "source": [
    "train_lb_loader = get_train_loader(\"standard\", train_lb_data, batch_size=128)"
   ]
  },
  {
   "cell_type": "code",
   "execution_count": 32,
   "id": "de6beff9-8fde-4433-b6e8-23c83d81dfa2",
   "metadata": {},
   "outputs": [],
   "source": [
    "sample = next(iter(train_lb_loader))"
   ]
  },
  {
   "cell_type": "code",
   "execution_count": 33,
   "id": "9ec13e74-bfa5-4ca1-b628-ca897398c11d",
   "metadata": {
    "scrolled": true
   },
   "outputs": [
    {
     "data": {
      "text/plain": [
       "tensor([[  168,  5083,  2013,  ...,    40,     0,     1],\n",
       "        [  177, 25908,  2013,  ...,     9,     0,     1],\n",
       "        [   93, 19497,  2013,  ...,    18,     0,     1],\n",
       "        ...,\n",
       "        [   88, 29430,  2013,  ...,     2,    65,     1],\n",
       "        [  118, 17311,  2013,  ...,    37,     1,     1],\n",
       "        [  213, 13676,  2015,  ...,    22,    36,     1]])"
      ]
     },
     "execution_count": 33,
     "metadata": {},
     "output_type": "execute_result"
    }
   ],
   "source": [
    "sample[-1]"
   ]
  },
  {
   "cell_type": "code",
   "execution_count": 34,
   "id": "aafeb6c0-ac5e-4e67-8bb4-4721864df010",
   "metadata": {},
   "outputs": [
    {
     "data": {
      "text/plain": [
       "tensor([168, 177,  93,  93, 181, 185,  75, 102, 318, 221,  11, 259, 265,  99,\n",
       "        307,  26, 186, 139, 141, 295, 118, 230, 259, 150, 162,  63, 235,   5,\n",
       "        295, 259, 236,  93, 103, 158, 286, 197,  84, 296, 272, 197,  26, 162,\n",
       "        117,  23, 162, 310, 262, 317,  54, 236, 194, 181, 307,  26, 265, 303,\n",
       "         89, 118, 262,  11,  13, 133,   2, 253, 140, 304, 139, 235,  54,  93,\n",
       "        242,  28,  26, 102, 118,  63, 286, 139, 296,  93, 235,   2, 307, 230,\n",
       "         12, 165, 308, 314, 296, 202, 292,  91,  31, 265, 194, 103, 255, 205,\n",
       "        243, 235, 296,  97, 307, 160, 294,  48, 118, 235, 185,  63, 197, 147,\n",
       "         97,  54, 162,  63, 186, 194, 253, 265, 253, 221, 256,  54,  14,  88,\n",
       "        118, 213])"
      ]
     },
     "execution_count": 34,
     "metadata": {},
     "output_type": "execute_result"
    }
   ],
   "source": [
    "sample[-1][:,0]"
   ]
  },
  {
   "cell_type": "code",
   "execution_count": 35,
   "id": "60188322-3aeb-4868-8e8e-0487874d177d",
   "metadata": {},
   "outputs": [],
   "source": [
    "x = []"
   ]
  },
  {
   "cell_type": "code",
   "execution_count": 36,
   "id": "a939d2c3-3343-411f-990c-58d734cefccc",
   "metadata": {
    "scrolled": true
   },
   "outputs": [
    {
     "name": "stderr",
     "output_type": "stream",
     "text": [
      "100%|██████████| 100/100 [06:11<00:00,  3.71s/it]\n"
     ]
    }
   ],
   "source": [
    "c = 0\n",
    "iterator = iter(train_lb_loader)\n",
    "pbar = tqdm(total=100)\n",
    "while c < 100:\n",
    "    c += 1\n",
    "    pbar.update(1)\n",
    "    _, _, metadata = next(iterator)\n",
    "    x.append(metadata[:,0]) # only extract the location column\n",
    "pbar.close()"
   ]
  },
  {
   "cell_type": "markdown",
   "id": "310f96d0-d931-47b8-9cea-28339cbf118f",
   "metadata": {},
   "source": [
    "### sample 100 batches ~ 12800 examples for their domains"
   ]
  },
  {
   "cell_type": "code",
   "execution_count": 37,
   "id": "5baf77e8-7b4d-4bb0-a253-f1e1214418d5",
   "metadata": {},
   "outputs": [
    {
     "data": {
      "text/plain": [
       "100"
      ]
     },
     "execution_count": 37,
     "metadata": {},
     "output_type": "execute_result"
    }
   ],
   "source": [
    "len(x)"
   ]
  },
  {
   "cell_type": "code",
   "execution_count": 38,
   "id": "7475690f-856b-483e-a760-3515f0a2efc1",
   "metadata": {},
   "outputs": [],
   "source": [
    "xx = np.hstack(x)"
   ]
  },
  {
   "cell_type": "code",
   "execution_count": 39,
   "id": "9ea49f21-9357-4400-9ea1-6841e6630b68",
   "metadata": {},
   "outputs": [
    {
     "data": {
      "text/plain": [
       "(12800,)"
      ]
     },
     "execution_count": 39,
     "metadata": {},
     "output_type": "execute_result"
    }
   ],
   "source": [
    "xx.shape"
   ]
  },
  {
   "cell_type": "code",
   "execution_count": 40,
   "id": "374f1841-0a92-4d80-8562-694ef394d79b",
   "metadata": {},
   "outputs": [
    {
     "data": {
      "text/plain": [
       "array([147, 236, 221, ..., 168,  26,  84])"
      ]
     },
     "execution_count": 40,
     "metadata": {},
     "output_type": "execute_result"
    }
   ],
   "source": [
    "xx"
   ]
  },
  {
   "cell_type": "code",
   "execution_count": 41,
   "id": "df31c24e-932d-4c06-bf0a-4558a0675201",
   "metadata": {},
   "outputs": [],
   "source": [
    "hist, _ = np.histogram(xx, np.arange(grouper.cardinality.item()))"
   ]
  },
  {
   "cell_type": "code",
   "execution_count": 45,
   "id": "dfe5849d-2b15-46b9-b67f-6a43c0d614e4",
   "metadata": {},
   "outputs": [
    {
     "data": {
      "text/plain": [
       "array([  1,  41, 343,   0,   0, 144, 114,   0,  38,   7,   2, 196,  19,\n",
       "        62,   4,  11,   6,  17,   6,  25,   3,   0,   0, 155,   0,   3,\n",
       "       365,   0,   7,   0,   7,  89,  11,  49,  66,  18,   7,   5,  21,\n",
       "        37,   0,   9,   2,  72,  14,  21, 198,  23,  62,   0,  10,  10,\n",
       "        29,   5, 335,   1,   0,   0,   0,   0,   4,   8,   0, 244,   4,\n",
       "         0,   0,   3,   1,   0,  43,   8,  28,   0,   8,  16,   0,   3,\n",
       "         0,   0,   0,   0,   0,   9,  55,   8,   0,  12,  51,  18,  21,\n",
       "        11,   4, 262,   6,   0,   8,  84,  10,  48,   0,   0, 220, 147,\n",
       "         0,   2,  10,   1,   0,  13,  11,   3,  25,  93,   0,   0,   5,\n",
       "       248, 196,   2,   0,  41,  12,  80,   6,   0,   0,   0,   2,   8,\n",
       "        10,  11,   4,  40,   0,  30,   0,  19,  13, 244,  34,  71,  47,\n",
       "         0,  21,   0,   0, 217,   0,  11,  16,  68,   6,   0,   0,   2,\n",
       "         0, 114, 128,   5, 142,  13, 120,   0,  43,  16,  12,   8, 181,\n",
       "         0,  42,   0,   3,  70,  16,   0,   0,  57,   8,  80,   7, 127,\n",
       "        51,   0,   0, 148, 118,   0,   0,  84,   0,   0,   0,   0, 247,\n",
       "        46,  10, 107,   9,  10,  51,  22,  56,  28,  13, 109,  12,   0,\n",
       "        35,   5,   1,   0,   2,  30,   3,  18,  42,   0,  16,   4,   8,\n",
       "       324,   3,  47,   0,  12,  16,   1,  23,   1, 340,   1, 113,  20,\n",
       "        16, 157,  84,   0,   9,   0,   0,   0,  23,  91,   5,   0,   0,\n",
       "        20,   1,  56,   5,  12,  22,  85,   2, 335,  29,  12,   9, 176,\n",
       "         0,   0, 167,   0,   3, 400,   8,   0,   0,   0,   0,  10,  12,\n",
       "         0,  16,   0,  42,   8,   2,   0,   0,  10,   0,   3,  16,  17,\n",
       "       156,   0,   0,   0,  26,  39,  56,  21, 171, 145, 351,  53,  21,\n",
       "        11,  43,   0,   0,  54, 205,   3,   0, 319,  30,   0,  13,   0,\n",
       "        65,   5,  19,   0,  75,  18,  14,   3,   0,   7])"
      ]
     },
     "execution_count": 45,
     "metadata": {},
     "output_type": "execute_result"
    }
   ],
   "source": [
    "hist"
   ]
  },
  {
   "cell_type": "code",
   "execution_count": 51,
   "id": "8d50144d",
   "metadata": {},
   "outputs": [
    {
     "data": {
      "text/plain": [
       "np.int64(91)"
      ]
     },
     "execution_count": 51,
     "metadata": {},
     "output_type": "execute_result"
    }
   ],
   "source": [
    "sum(hist == 0)"
   ]
  },
  {
   "attachments": {},
   "cell_type": "markdown",
   "id": "3dba5936",
   "metadata": {},
   "source": [
    "### _About 90 out of 323 domains held out from train split_"
   ]
  }
 ],
 "metadata": {
  "kernelspec": {
   "display_name": "Python 3",
   "language": "python",
   "name": "python3"
  },
  "language_info": {
   "codemirror_mode": {
    "name": "ipython",
    "version": 3
   },
   "file_extension": ".py",
   "mimetype": "text/x-python",
   "name": "python",
   "nbconvert_exporter": "python",
   "pygments_lexer": "ipython3",
   "version": "3.12.6"
  }
 },
 "nbformat": 4,
 "nbformat_minor": 5
}
